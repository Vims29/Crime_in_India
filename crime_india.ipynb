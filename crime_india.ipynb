{
 "cells": [
  {
   "cell_type": "code",
   "execution_count": 1,
   "metadata": {},
   "outputs": [],
   "source": [
    "import warnings\n",
    "warnings.filterwarnings('ignore')\n",
    "import pandas as pd\n",
    "import numpy as np\n",
    "import matplotlib.pyplot as plt\n",
    "import scipy.stats as stats\n",
    "from numpy import nan\n"
   ]
  },
  {
   "cell_type": "code",
   "execution_count": 2,
   "metadata": {},
   "outputs": [
    {
     "data": {
      "text/html": [
       "<div>\n",
       "<style scoped>\n",
       "    .dataframe tbody tr th:only-of-type {\n",
       "        vertical-align: middle;\n",
       "    }\n",
       "\n",
       "    .dataframe tbody tr th {\n",
       "        vertical-align: top;\n",
       "    }\n",
       "\n",
       "    .dataframe thead th {\n",
       "        text-align: right;\n",
       "    }\n",
       "</style>\n",
       "<table border=\"1\" class=\"dataframe\">\n",
       "  <thead>\n",
       "    <tr style=\"text-align: right;\">\n",
       "      <th></th>\n",
       "      <th>city</th>\n",
       "      <th>year</th>\n",
       "      <th>crime</th>\n",
       "      <th>incidences</th>\n",
       "      <th>rate</th>\n",
       "    </tr>\n",
       "  </thead>\n",
       "  <tbody>\n",
       "    <tr>\n",
       "      <th>0</th>\n",
       "      <td>Agra</td>\n",
       "      <td>2014</td>\n",
       "      <td>Attempt to rape</td>\n",
       "      <td>78</td>\n",
       "      <td>4.5</td>\n",
       "    </tr>\n",
       "    <tr>\n",
       "      <th>1</th>\n",
       "      <td>Agra</td>\n",
       "      <td>2014</td>\n",
       "      <td>Attempt to commit C.H. Not Amounting To Murder</td>\n",
       "      <td>88</td>\n",
       "      <td>5.0</td>\n",
       "    </tr>\n",
       "    <tr>\n",
       "      <th>2</th>\n",
       "      <td>Agra</td>\n",
       "      <td>2014</td>\n",
       "      <td>Attempt To Commit Murder</td>\n",
       "      <td>17</td>\n",
       "      <td>1.0</td>\n",
       "    </tr>\n",
       "    <tr>\n",
       "      <th>3</th>\n",
       "      <td>Agra</td>\n",
       "      <td>2014</td>\n",
       "      <td>Murder</td>\n",
       "      <td>71</td>\n",
       "      <td>4.1</td>\n",
       "    </tr>\n",
       "    <tr>\n",
       "      <th>4</th>\n",
       "      <td>Agra</td>\n",
       "      <td>2014</td>\n",
       "      <td>Total Rape</td>\n",
       "      <td>38</td>\n",
       "      <td>4.7</td>\n",
       "    </tr>\n",
       "    <tr>\n",
       "      <th>5</th>\n",
       "      <td>Ahmedabad</td>\n",
       "      <td>2014</td>\n",
       "      <td>Attempt to rape</td>\n",
       "      <td>82</td>\n",
       "      <td>1.3</td>\n",
       "    </tr>\n",
       "    <tr>\n",
       "      <th>6</th>\n",
       "      <td>Ahmedabad</td>\n",
       "      <td>2014</td>\n",
       "      <td>Attempt to commit C.H. Not Amounting To Murder</td>\n",
       "      <td>61</td>\n",
       "      <td>1.0</td>\n",
       "    </tr>\n",
       "    <tr>\n",
       "      <th>7</th>\n",
       "      <td>Ahmedabad</td>\n",
       "      <td>2014</td>\n",
       "      <td>Attempt To Commit Murder</td>\n",
       "      <td>6</td>\n",
       "      <td>0.1</td>\n",
       "    </tr>\n",
       "    <tr>\n",
       "      <th>8</th>\n",
       "      <td>Ahmedabad</td>\n",
       "      <td>2014</td>\n",
       "      <td>Murder</td>\n",
       "      <td>0</td>\n",
       "      <td>0.0</td>\n",
       "    </tr>\n",
       "    <tr>\n",
       "      <th>9</th>\n",
       "      <td>Ahmedabad</td>\n",
       "      <td>2014</td>\n",
       "      <td>Total Rape</td>\n",
       "      <td>100</td>\n",
       "      <td>3.3</td>\n",
       "    </tr>\n",
       "  </tbody>\n",
       "</table>\n",
       "</div>"
      ],
      "text/plain": [
       "        city  year                                           crime incidences  \\\n",
       "0       Agra  2014                                 Attempt to rape         78   \n",
       "1       Agra  2014  Attempt to commit C.H. Not Amounting To Murder         88   \n",
       "2       Agra  2014                        Attempt To Commit Murder         17   \n",
       "3       Agra  2014                                          Murder         71   \n",
       "4       Agra  2014                                      Total Rape         38   \n",
       "5  Ahmedabad  2014                                 Attempt to rape         82   \n",
       "6  Ahmedabad  2014  Attempt to commit C.H. Not Amounting To Murder         61   \n",
       "7  Ahmedabad  2014                        Attempt To Commit Murder          6   \n",
       "8  Ahmedabad  2014                                          Murder          0   \n",
       "9  Ahmedabad  2014                                      Total Rape        100   \n",
       "\n",
       "   rate  \n",
       "0   4.5  \n",
       "1   5.0  \n",
       "2   1.0  \n",
       "3   4.1  \n",
       "4   4.7  \n",
       "5   1.3  \n",
       "6   1.0  \n",
       "7   0.1  \n",
       "8   0.0  \n",
       "9   3.3  "
      ]
     },
     "execution_count": 2,
     "metadata": {},
     "output_type": "execute_result"
    }
   ],
   "source": [
    "data = pd.read_csv('crime_india2014.csv')\n",
    "data.head(10)"
   ]
  },
  {
   "cell_type": "code",
   "execution_count": 7,
   "metadata": {
    "scrolled": false
   },
   "outputs": [
    {
     "name": "stdout",
     "output_type": "stream",
     "text": [
      "<class 'pandas.core.frame.DataFrame'>\n",
      "RangeIndex: 2491 entries, 0 to 2490\n",
      "Data columns (total 5 columns):\n",
      "city          2491 non-null object\n",
      "year          2491 non-null int64\n",
      "crime         2491 non-null object\n",
      "incidences    2491 non-null object\n",
      "rate          2491 non-null float64\n",
      "dtypes: float64(1), int64(1), object(3)\n",
      "memory usage: 97.4+ KB\n"
     ]
    }
   ],
   "source": [
    "data.info(10)"
   ]
  },
  {
   "cell_type": "code",
   "execution_count": 4,
   "metadata": {},
   "outputs": [
    {
     "name": "stdout",
     "output_type": "stream",
     "text": [
      "Homocide: 53\n"
     ]
    }
   ],
   "source": [
    "print('Homocide:', data[data.crime == 'Murder'].city.count())"
   ]
  },
  {
   "cell_type": "code",
   "execution_count": 5,
   "metadata": {},
   "outputs": [
    {
     "data": {
      "text/plain": [
       "Index(['Durg-Bhilainagar', 'Jamshedpur', 'Kolkata', 'Jodhpur', 'Aurangabad',\n",
       "       'Patna', 'Kollam', 'Ludhiana', 'Vishakhapatnam', 'Coimbatore',\n",
       "       'Srinagar', 'Indore', 'Kanpur', 'Jaipur', 'Ahmedabad', 'Kannur',\n",
       "       'Thrissur', 'Delhi (City)', 'Chandigarh City', 'Surat', 'Malappuram',\n",
       "       'Thiruvananthapuram', 'Pune', 'Allahabad', 'Kochi', 'Lucknow',\n",
       "       'Chennai', 'Bhopal', 'Ranchi', 'Agra', 'Nasik', 'Raipur', 'Bengaluru',\n",
       "       'Asansol', 'Rajkot', 'Ghaziabad', 'Kota', 'Amritsar', 'Jabalpur',\n",
       "       'Faridabad', 'Madurai', 'Meerut', 'Mumbai', 'Vijayawada', 'Vadodara',\n",
       "       'Vasai Virar', 'Nagpur', 'Varanasi', 'Kozhikode', 'Dhanbad', 'Gwalior',\n",
       "       'Flyderabad', 'Tiruch irapalli', 'Tiruchirapalli', 'Hyderabad'],\n",
       "      dtype='object')"
      ]
     },
     "execution_count": 5,
     "metadata": {},
     "output_type": "execute_result"
    }
   ],
   "source": [
    "data['city'].value_counts().keys()"
   ]
  },
  {
   "cell_type": "code",
   "execution_count": 11,
   "metadata": {},
   "outputs": [
    {
     "data": {
      "text/plain": [
       "2491"
      ]
     },
     "execution_count": 11,
     "metadata": {},
     "output_type": "execute_result"
    }
   ],
   "source": [
    "data['city'].count()\n"
   ]
  },
  {
   "cell_type": "code",
   "execution_count": null,
   "metadata": {},
   "outputs": [],
   "source": []
  }
 ],
 "metadata": {
  "kernelspec": {
   "display_name": "Python 3",
   "language": "python",
   "name": "python3"
  },
  "language_info": {
   "codemirror_mode": {
    "name": "ipython",
    "version": 3
   },
   "file_extension": ".py",
   "mimetype": "text/x-python",
   "name": "python",
   "nbconvert_exporter": "python",
   "pygments_lexer": "ipython3",
   "version": "3.6.7"
  }
 },
 "nbformat": 4,
 "nbformat_minor": 2
}
